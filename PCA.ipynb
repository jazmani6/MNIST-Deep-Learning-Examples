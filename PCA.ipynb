{
  "nbformat": 4,
  "nbformat_minor": 0,
  "metadata": {
    "colab": {
      "name": "PCA.ipynb",
      "provenance": [],
      "collapsed_sections": [],
      "authorship_tag": "ABX9TyPQuoA8DvxiGkZVbdtWIgzD",
      "include_colab_link": true
    },
    "kernelspec": {
      "name": "python3",
      "display_name": "Python 3"
    }
  },
  "cells": [
    {
      "cell_type": "markdown",
      "metadata": {
        "id": "view-in-github",
        "colab_type": "text"
      },
      "source": [
        "<a href=\"https://colab.research.google.com/github/jazmani6/MNIST-Deep-Learning-Examples/blob/main/PCA.ipynb\" target=\"_parent\"><img src=\"https://colab.research.google.com/assets/colab-badge.svg\" alt=\"Open In Colab\"/></a>"
      ]
    },
    {
      "cell_type": "markdown",
      "metadata": {
        "id": "bZIo3ppJAhgT"
      },
      "source": [
        "Loading Data"
      ]
    },
    {
      "cell_type": "code",
      "metadata": {
        "colab": {
          "base_uri": "https://localhost:8080/"
        },
        "id": "2WPYOt_ax28q",
        "outputId": "93fb0239-c7b7-4d74-f81c-e3bf641b7cab"
      },
      "source": [
        "from google.colab import drive\n",
        "drive.mount('/content/drive', force_remount=True)"
      ],
      "execution_count": null,
      "outputs": [
        {
          "output_type": "stream",
          "text": [
            "Mounted at /content/drive\n"
          ],
          "name": "stdout"
        }
      ]
    },
    {
      "cell_type": "code",
      "metadata": {
        "colab": {
          "base_uri": "https://localhost:8080/"
        },
        "id": "HOncLdFuArkS",
        "outputId": "4510b1ed-f691-4422-a0cf-ee8aebe6aa3c"
      },
      "source": [
        "!pip install idx2numpy"
      ],
      "execution_count": null,
      "outputs": [
        {
          "output_type": "stream",
          "text": [
            "Collecting idx2numpy\n",
            "  Downloading https://files.pythonhosted.org/packages/7e/6b/80628f6cc2f44d80b27f1ef7b57b257ed4c73766113b77d13ad110c091b4/idx2numpy-1.2.3.tar.gz\n",
            "Requirement already satisfied: numpy in /usr/local/lib/python3.7/dist-packages (from idx2numpy) (1.19.5)\n",
            "Requirement already satisfied: six in /usr/local/lib/python3.7/dist-packages (from idx2numpy) (1.15.0)\n",
            "Building wheels for collected packages: idx2numpy\n",
            "  Building wheel for idx2numpy (setup.py) ... \u001b[?25l\u001b[?25hdone\n",
            "  Created wheel for idx2numpy: filename=idx2numpy-1.2.3-cp37-none-any.whl size=7907 sha256=1249cf952bf6af4d0c8f8779e25c59fa8023dc544d8024ca7c002f931e694715\n",
            "  Stored in directory: /root/.cache/pip/wheels/7a/c1/da/284ce80a748fab898b8d1fa95468a386e7cf3b81da18511f9d\n",
            "Successfully built idx2numpy\n",
            "Installing collected packages: idx2numpy\n",
            "Successfully installed idx2numpy-1.2.3\n"
          ],
          "name": "stdout"
        }
      ]
    },
    {
      "cell_type": "code",
      "metadata": {
        "colab": {
          "base_uri": "https://localhost:8080/",
          "height": 363
        },
        "id": "BG0cy_zpAcHb",
        "outputId": "80caa3b1-6543-44df-ada4-3f0f1b5c830d"
      },
      "source": [
        "import idx2numpy\n",
        "import numpy as np\n",
        "import matplotlib.pyplot as plt\n",
        "\n",
        "train_data=idx2numpy.convert_from_file('drive/MyDrive/datasets/train-images.idx3-ubyte')\n",
        "train_data = np.reshape(train_data,(60000,28*28))\n",
        "train_label = idx2numpy.convert_from_file('drive/MyDrive/datasets/train-labels.idx1-ubyte')\n",
        "print(train_data.shape)\n",
        "print(train_label.shape)\n",
        "\n",
        "test_data=idx2numpy.convert_from_file('drive/MyDrive/datasets/t10k-images.idx3-ubyte')\n",
        "test_data = np.reshape(test_data,(10000,28*28))\n",
        "test_label = idx2numpy.convert_from_file('drive/MyDrive/datasets/t10k-labels.idx1-ubyte')\n",
        "print(test_data.shape)\n",
        "print(test_label.shape)"
      ],
      "execution_count": null,
      "outputs": [
        {
          "output_type": "error",
          "ename": "ModuleNotFoundError",
          "evalue": "ignored",
          "traceback": [
            "\u001b[0;31m---------------------------------------------------------------------------\u001b[0m",
            "\u001b[0;31mModuleNotFoundError\u001b[0m                       Traceback (most recent call last)",
            "\u001b[0;32m<ipython-input-1-b39700c89eb7>\u001b[0m in \u001b[0;36m<module>\u001b[0;34m()\u001b[0m\n\u001b[0;32m----> 1\u001b[0;31m \u001b[0;32mimport\u001b[0m \u001b[0midx2numpy\u001b[0m\u001b[0;34m\u001b[0m\u001b[0;34m\u001b[0m\u001b[0m\n\u001b[0m\u001b[1;32m      2\u001b[0m \u001b[0;32mimport\u001b[0m \u001b[0mnumpy\u001b[0m \u001b[0;32mas\u001b[0m \u001b[0mnp\u001b[0m\u001b[0;34m\u001b[0m\u001b[0;34m\u001b[0m\u001b[0m\n\u001b[1;32m      3\u001b[0m \u001b[0;32mimport\u001b[0m \u001b[0mmatplotlib\u001b[0m\u001b[0;34m.\u001b[0m\u001b[0mpyplot\u001b[0m \u001b[0;32mas\u001b[0m \u001b[0mplt\u001b[0m\u001b[0;34m\u001b[0m\u001b[0;34m\u001b[0m\u001b[0m\n\u001b[1;32m      4\u001b[0m \u001b[0;34m\u001b[0m\u001b[0m\n\u001b[1;32m      5\u001b[0m \u001b[0mtrain_data\u001b[0m\u001b[0;34m=\u001b[0m\u001b[0midx2numpy\u001b[0m\u001b[0;34m.\u001b[0m\u001b[0mconvert_from_file\u001b[0m\u001b[0;34m(\u001b[0m\u001b[0;34m'drive/MyDrive/datasets/train-images.idx3-ubyte'\u001b[0m\u001b[0;34m)\u001b[0m\u001b[0;34m\u001b[0m\u001b[0;34m\u001b[0m\u001b[0m\n",
            "\u001b[0;31mModuleNotFoundError\u001b[0m: No module named 'idx2numpy'",
            "",
            "\u001b[0;31m---------------------------------------------------------------------------\u001b[0;32m\nNOTE: If your import is failing due to a missing package, you can\nmanually install dependencies using either !pip or !apt.\n\nTo view examples of installing some common dependencies, click the\n\"Open Examples\" button below.\n\u001b[0;31m---------------------------------------------------------------------------\u001b[0m\n"
          ]
        }
      ]
    },
    {
      "cell_type": "markdown",
      "metadata": {
        "id": "307Ie2hjEUyv"
      },
      "source": [
        "Projected PCA as found by the dot product of Eigenvectors and Centered fitted data (X)\n",
        " "
      ]
    },
    {
      "cell_type": "code",
      "metadata": {
        "colab": {
          "base_uri": "https://localhost:8080/"
        },
        "id": "PE1ZWsLbEfQk",
        "outputId": "30804c8e-50fb-4604-db58-3d68e638365a"
      },
      "source": [
        "from sklearn.preprocessing import StandardScaler\n",
        "xcov = StandardScaler().fit_transform(train_data)\n",
        "print(xcov.shape)\n",
        "\n",
        "mean = np.mean(xcov, axis = 0)\n",
        "X = xcov - mean\n",
        "\n",
        "covar_mat = np.cov(X, rowvar=0)\n",
        "\n",
        "# Step 2: Find the Eigenvalues and eigenvectors of said Covariance Matrix.\n",
        "lamb, u = np.linalg.eig(covar_mat)\n",
        "\n",
        "\n",
        "# Sort the (eigenvalues from highest to lowest\n",
        "idx = lamb.argsort()[::-1]   \n",
        "lamb = lamb[idx]\n",
        "u = u[:,idx]\n",
        "\n",
        "m = [2, 10, 50, 100, 200, 300]\n",
        "dim = 784\n",
        "\n",
        "proj = u.T.dot(X.T)\n",
        "print (\"The projected PCA for all digits is:\")\n",
        "print(proj.T)\n",
        "\n"
      ],
      "execution_count": null,
      "outputs": [
        {
          "output_type": "stream",
          "text": [
            "(60000, 784)\n",
            "The projected PCA for all digits is:\n",
            "[[ 9.22158806e-01 -4.81479035e+00 -6.75598364e-02 ...  4.93168237e-15\n",
            "  -8.79214826e-15  3.11471285e-14]\n",
            " [-8.70897698e+00 -7.75440302e+00  3.44791044e+00 ...  1.62042835e-15\n",
            "  -4.76501396e-15 -2.02629283e-14]\n",
            " [-2.32838932e+00  9.43133817e+00  6.18411405e+00 ...  4.95708205e-16\n",
            "   3.66588388e-15 -3.41796658e-16]\n",
            " ...\n",
            " [ 3.77721201e+00 -3.23056436e+00  3.80619883e+00 ... -4.77785034e-15\n",
            "   2.72176252e-15 -2.84539883e-14]\n",
            " [-1.72236917e+00 -4.94812525e+00 -6.95122764e-03 ... -3.55431309e-15\n",
            "   1.75214163e-15 -4.07466439e-14]\n",
            " [ 1.42725062e+00 -6.17538558e+00  2.96768709e+00 ...  2.74809338e-17\n",
            "   1.27731523e-15 -1.87484777e-14]]\n"
          ],
          "name": "stdout"
        }
      ]
    },
    {
      "cell_type": "markdown",
      "metadata": {
        "id": "c9blt6FXeEzm"
      },
      "source": [
        "EigenValues\n"
      ]
    },
    {
      "cell_type": "code",
      "metadata": {
        "colab": {
          "base_uri": "https://localhost:8080/",
          "height": 300
        },
        "id": "imDHDS8Md-WX",
        "outputId": "70ab6129-2305-4795-b769-ca82ee53df0b"
      },
      "source": [
        "\n",
        "print(np.shape(lamb))\n",
        "plt.ylabel('Lambda Eigenvalues')\n",
        "plt.xlabel('Dimensions')\n",
        "plt.ylim(0, 10)\n",
        "plt.plot(range(0,dim),lamb)\n",
        "plt.show()\n"
      ],
      "execution_count": null,
      "outputs": [
        {
          "output_type": "stream",
          "text": [
            "(784,)\n"
          ],
          "name": "stdout"
        },
        {
          "output_type": "display_data",
          "data": {
            "image/png": "[encoded data removed]",
            "text/plain": [
              "<Figure size 432x288 with 1 Axes>"
            ]
          },
          "metadata": {
            "tags": [],
            "needs_background": "light"
          }
        }
      ]
    },
    {
      "cell_type": "markdown",
      "metadata": {
        "id": "zuhpCW6DNEyJ"
      },
      "source": [
        "Finding Total Distortion Error"
      ]
    },
    {
      "cell_type": "code",
      "metadata": {
        "colab": {
          "base_uri": "https://localhost:8080/",
          "height": 290
        },
        "id": "IZud9i-sNFSQ",
        "outputId": "469fb806-6239-43c0-8d2b-e3da5f827e98"
      },
      "source": [
        "distortion = np.zeros(len(m))\n",
        "#Using the Eq 4.5 to find the Distortion error as sum of the norm of x - x_bar\n",
        "principal = (proj).dot(X)\n",
        "x_bar = (proj.T).dot(principal.T) + mean\n",
        "error = xcov - x_bar\n",
        "for s in m:\n",
        "  for i in range(s, 784):\n",
        "    distortion[m.index(s)] += np.linalg.norm(error[:,i])**2\n",
        "\n",
        "distortion = distortion/784\n",
        "\n",
        "\n",
        "plt.plot(m, distortion, 'bo')\n",
        "plt.xlabel(\"M dimension values\")\n",
        "plt.ylabel(\"Distortion Error\")\n",
        "plt.show()"
      ],
      "execution_count": null,
      "outputs": [
        {
          "output_type": "display_data",
          "data": {
            "image/png": "[encoded data removed]",
            "text/plain": [
              "<Figure size 432x288 with 1 Axes>"
            ]
          },
          "metadata": {
            "tags": [],
            "needs_background": "light"
          }
        }
      ]
    }
  ]
}