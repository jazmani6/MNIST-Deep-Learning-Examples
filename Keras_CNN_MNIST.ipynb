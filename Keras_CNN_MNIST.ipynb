{
  "nbformat": 4,
  "nbformat_minor": 0,
  "metadata": {
    "colab": {
      "name": "Keras_CNN_MNIST",
      "provenance": [],
      "collapsed_sections": [],
      "authorship_tag": "ABX9TyPO/TVyBmVqNyISIeI4rJwX",
      "include_colab_link": true
    },
    "kernelspec": {
      "name": "python3",
      "display_name": "Python 3"
    },
    "accelerator": "GPU"
  },
  "cells": [
    {
      "cell_type": "markdown",
      "metadata": {
        "id": "view-in-github",
        "colab_type": "text"
      },
      "source": [
        "<a href=\"https://colab.research.google.com/github/jazmani6/MNIST-Deep-Learning-Examples/blob/main/Keras_CNN_MNIST.ipynb\" target=\"_parent\"><img src=\"https://colab.research.google.com/assets/colab-badge.svg\" alt=\"Open In Colab\"/></a>"
      ]
    },
    {
      "cell_type": "markdown",
      "metadata": {
        "id": "gV_eM13qgz6S"
      },
      "source": [
        "First Step: Importing the MNIST Data\n"
      ]
    },
    {
      "cell_type": "code",
      "metadata": {
        "colab": {
          "base_uri": "https://localhost:8080/"
        },
        "id": "2WPYOt_ax28q",
        "outputId": "61762e06-68e8-45b0-afcb-6036035c461b"
      },
      "source": [
        "from google.colab import drive\n",
        "drive.mount('/content/drive', force_remount=True)"
      ],
      "execution_count": null,
      "outputs": [
        {
          "output_type": "stream",
          "text": [
            "Mounted at /content/drive\n"
          ],
          "name": "stdout"
        }
      ]
    },
    {
      "cell_type": "code",
      "metadata": {
        "colab": {
          "base_uri": "https://localhost:8080/"
        },
        "id": "o_ZnXLBVgU6j",
        "outputId": "0c4b33ec-0f25-4b66-9d79-1c6dcad2217e"
      },
      "source": [
        "!pip install idx2numpy"
      ],
      "execution_count": null,
      "outputs": [
        {
          "output_type": "stream",
          "text": [
            "Collecting idx2numpy\n",
            "  Downloading https://files.pythonhosted.org/packages/7e/6b/80628f6cc2f44d80b27f1ef7b57b257ed4c73766113b77d13ad110c091b4/idx2numpy-1.2.3.tar.gz\n",
            "Requirement already satisfied: numpy in /usr/local/lib/python3.7/dist-packages (from idx2numpy) (1.19.5)\n",
            "Requirement already satisfied: six in /usr/local/lib/python3.7/dist-packages (from idx2numpy) (1.15.0)\n",
            "Building wheels for collected packages: idx2numpy\n",
            "  Building wheel for idx2numpy (setup.py) ... \u001b[?25l\u001b[?25hdone\n",
            "  Created wheel for idx2numpy: filename=idx2numpy-1.2.3-cp37-none-any.whl size=7907 sha256=395df52d55f35e82385e794b2f237b1390d45ab190fb980f4e517b9f9bf6790a\n",
            "  Stored in directory: /root/.cache/pip/wheels/7a/c1/da/284ce80a748fab898b8d1fa95468a386e7cf3b81da18511f9d\n",
            "Successfully built idx2numpy\n",
            "Installing collected packages: idx2numpy\n",
            "Successfully installed idx2numpy-1.2.3\n"
          ],
          "name": "stdout"
        }
      ]
    },
    {
      "cell_type": "code",
      "metadata": {
        "colab": {
          "base_uri": "https://localhost:8080/"
        },
        "id": "BG0cy_zpAcHb",
        "outputId": "46369651-f217-4948-8c81-13f2987e7d0b"
      },
      "source": [
        "import idx2numpy\n",
        "import numpy as np\n",
        "import matplotlib.pyplot as plt\n",
        "%matplotlib inline\n",
        "\n",
        "train_data=idx2numpy.convert_from_file('drive/MyDrive/datasets/train-images.idx3-ubyte')\n",
        "train_data = np.reshape(train_data,(60000,28*28))\n",
        "train_label = idx2numpy.convert_from_file('drive/MyDrive/datasets/train-labels.idx1-ubyte')\n",
        "test_data=idx2numpy.convert_from_file('drive/MyDrive/datasets/t10k-images.idx3-ubyte')\n",
        "test_data = np.reshape(test_data,(10000,28*28))\n",
        "test_label = idx2numpy.convert_from_file('drive/MyDrive/datasets/t10k-labels.idx1-ubyte')\n",
        "\n",
        "train_data = train_data.astype('float32')\n",
        "test_data = test_data.astype('float32')\n",
        "\n",
        "train_data = train_data.reshape(train_data.shape[0], 28, 28, 1)\n",
        "test_data = test_data.reshape(test_data.shape[0], 28, 28, 1)         #Initial Inputs are 28x28x1\n",
        "\n",
        "train_data /=255\n",
        "test_data /=255\n",
        "\n",
        "print(train_data.shape)\n",
        "print(train_label.shape)\n",
        "\n",
        "print(test_data.shape)\n",
        "print(test_label.shape)"
      ],
      "execution_count": null,
      "outputs": [
        {
          "output_type": "stream",
          "text": [
            "(60000, 28, 28, 1)\n",
            "(60000,)\n",
            "(10000, 28, 28, 1)\n",
            "(10000,)\n"
          ],
          "name": "stdout"
        }
      ]
    },
    {
      "cell_type": "markdown",
      "metadata": {
        "id": "s6wSXz_O9j48"
      },
      "source": [
        "Creating Dictionary to classify data"
      ]
    },
    {
      "cell_type": "code",
      "metadata": {
        "id": "FAHZ39Mu1AZ2"
      },
      "source": [
        "# Create dictionary of target classes\n",
        "label_num = {\n",
        " 0: 'zeros',\n",
        " 1: 'ones',\n",
        " 2: 'twos',\n",
        " 3: 'threes',\n",
        " 4: 'fours',\n",
        " 5: 'fives',\n",
        " 6: 'sixes',\n",
        " 7: 'sevens',\n",
        " 8: 'eights',\n",
        " 9: 'nines',\n",
        "}"
      ],
      "execution_count": null,
      "outputs": []
    },
    {
      "cell_type": "code",
      "metadata": {
        "colab": {
          "base_uri": "https://localhost:8080/",
          "height": 193
        },
        "id": "JWdHtdvY_hB5",
        "outputId": "bf47044c-6e81-4957-9fc1-3e5363832b49"
      },
      "source": [
        "plt.figure(figsize=[5,5])\n",
        "\n",
        "plt.subplot(122)\n",
        "data = np.reshape(train_data[0], (28,28))\n",
        "label = np.argmax(train_label[0])\n",
        "plt.imshow(data, cmap='gray')"
      ],
      "execution_count": null,
      "outputs": [
        {
          "output_type": "execute_result",
          "data": {
            "text/plain": [
              "<matplotlib.image.AxesImage at 0x7fb82175c150>"
            ]
          },
          "metadata": {
            "tags": []
          },
          "execution_count": 3
        },
        {
          "output_type": "display_data",
          "data": {
            "image/png": "[encoded data removed]",
            "text/plain": [
              "<Figure size 360x360 with 1 Axes>"
            ]
          },
          "metadata": {
            "tags": [],
            "needs_background": "light"
          }
        }
      ]
    },
    {
      "cell_type": "markdown",
      "metadata": {
        "id": "SUzq8TXZhjsQ"
      },
      "source": [
        "Attempt CNN using TensorFlow and Keras\n"
      ]
    },
    {
      "cell_type": "code",
      "metadata": {
        "colab": {
          "base_uri": "https://localhost:8080/"
        },
        "id": "7NV7bSEXhpxa",
        "outputId": "d806bf19-9e18-4452-9d9d-520482f3868c"
      },
      "source": [
        "import tensorflow as tf\n",
        "\n",
        "from tensorflow import keras\n",
        "from tensorflow.keras import layers\n",
        "\n",
        "batch_size = 128\n",
        "epochs = 10\n",
        "dim = 784\n",
        "\n",
        "#num_category = 10\n",
        "\n",
        "number_of_classes = len(label_num)   #Just in case any larger numbers could hypothetically be added to dictionary\n",
        "\n",
        "train_label = keras.utils.to_categorical(train_label, 10)\n",
        "test_label = keras.utils.to_categorical(test_label, number_of_classes)\n",
        "\n",
        "train_label.shape, test_label.shape\n"
      ],
      "execution_count": null,
      "outputs": [
        {
          "output_type": "execute_result",
          "data": {
            "text/plain": [
              "((60000, 10), (10000, 10))"
            ]
          },
          "metadata": {
            "tags": []
          },
          "execution_count": 4
        }
      ]
    },
    {
      "cell_type": "markdown",
      "metadata": {
        "id": "fWu34VhaPqiL"
      },
      "source": [
        "Build the Model using Keras"
      ]
    },
    {
      "cell_type": "code",
      "metadata": {
        "colab": {
          "base_uri": "https://localhost:8080/"
        },
        "id": "RfO0h-RrJntK",
        "outputId": "9cb660a8-24a2-4c58-a6b5-8345ce222325"
      },
      "source": [
        "from keras.models import Sequential\n",
        "from keras.layers import Dense, Dropout, Activation, ReLU, Softmax, Conv2D, MaxPooling2D, Flatten\n",
        "from keras.activations import relu, softmax\n",
        "from keras.utils import np_utils\n",
        "\n",
        "model = Sequential()\n",
        "model.add(Conv2D(32, kernel_size=(3, 3),\n",
        "     activation='relu',\n",
        "     input_shape=(28, 28, 1)))\n",
        "model.add(Conv2D(64,(3, 3), activation='relu'))\n",
        "model.add(Conv2D(64,(3, 3), activation='relu'))\n",
        "model.add(MaxPooling2D(pool_size=(2, 2)))\n",
        "model.add(Dropout(0.3))\n",
        "model.add(Flatten())\n",
        "model.add(layers.Dense(128))\n",
        "model.add(Dropout(0.25))\n",
        "model.add(layers.Dense(10, activation='softmax'))\n",
        "\n",
        "\n",
        "model.summary()"
      ],
      "execution_count": null,
      "outputs": [
        {
          "output_type": "stream",
          "text": [
            "Model: \"sequential\"\n",
            "_________________________________________________________________\n",
            "Layer (type)                 Output Shape              Param #   \n",
            "=================================================================\n",
            "conv2d (Conv2D)              (None, 26, 26, 32)        320       \n",
            "_________________________________________________________________\n",
            "conv2d_1 (Conv2D)            (None, 24, 24, 64)        18496     \n",
            "_________________________________________________________________\n",
            "conv2d_2 (Conv2D)            (None, 22, 22, 64)        36928     \n",
            "_________________________________________________________________\n",
            "max_pooling2d (MaxPooling2D) (None, 11, 11, 64)        0         \n",
            "_________________________________________________________________\n",
            "dropout (Dropout)            (None, 11, 11, 64)        0         \n",
            "_________________________________________________________________\n",
            "flatten (Flatten)            (None, 7744)              0         \n",
            "_________________________________________________________________\n",
            "dense (Dense)                (None, 128)               991360    \n",
            "_________________________________________________________________\n",
            "dropout_1 (Dropout)          (None, 128)               0         \n",
            "_________________________________________________________________\n",
            "dense_1 (Dense)              (None, 10)                1290      \n",
            "=================================================================\n",
            "Total params: 1,048,394\n",
            "Trainable params: 1,048,394\n",
            "Non-trainable params: 0\n",
            "_________________________________________________________________\n"
          ],
          "name": "stdout"
        }
      ]
    },
    {
      "cell_type": "markdown",
      "metadata": {
        "id": "PsZHc7zIsGuv"
      },
      "source": [
        "Split Training data into training and Validation (To speed up Epoch pass timing from 5 mins to 3 mins per Epoch)"
      ]
    },
    {
      "cell_type": "code",
      "metadata": {
        "id": "yirv71SirVfa"
      },
      "source": [
        "from sklearn.model_selection import train_test_split\n",
        "train_data,validate_data,train_label,validate_label = train_test_split(train_data, train_label, test_size=0.2)"
      ],
      "execution_count": null,
      "outputs": []
    },
    {
      "cell_type": "markdown",
      "metadata": {
        "id": "NIJ9ngV_gdGD"
      },
      "source": [
        "Training the model with training data:"
      ]
    },
    {
      "cell_type": "code",
      "metadata": {
        "colab": {
          "base_uri": "https://localhost:8080/"
        },
        "id": "w3wyJWFpgz0e",
        "outputId": "c8a547dc-2344-4fae-be7c-494212cb4e35"
      },
      "source": [
        "\n",
        "model.compile(loss='categorical_crossentropy', optimizer='adam', metrics=['accuracy'])\n",
        "loss_score = model.fit(train_data,train_label,batch_size=128, epochs=10,validation_data=(validate_data,validate_label))\n",
        "model.save(\"epochsave.h5py\")\n",
        "loss = loss_score.history['loss']\n",
        "val_loss = loss_score.history['val_loss']\n",
        "\n",
        "score = model.evaluate(test_data,test_label)\n",
        "\n",
        "print('Test loss:', score[0])\n",
        "print('Test accuracy:', score[1])"
      ],
      "execution_count": null,
      "outputs": [
        {
          "output_type": "stream",
          "text": [
            "Epoch 1/10\n",
            "375/375 [==============================] - 40s 26ms/step - loss: 0.3863 - accuracy: 0.8814 - val_loss: 0.0792 - val_accuracy: 0.9751\n",
            "Epoch 2/10\n",
            "375/375 [==============================] - 9s 25ms/step - loss: 0.0625 - accuracy: 0.9807 - val_loss: 0.0576 - val_accuracy: 0.9820\n",
            "Epoch 3/10\n",
            "375/375 [==============================] - 9s 25ms/step - loss: 0.0441 - accuracy: 0.9870 - val_loss: 0.0502 - val_accuracy: 0.9856\n",
            "Epoch 4/10\n",
            "375/375 [==============================] - 9s 24ms/step - loss: 0.0365 - accuracy: 0.9891 - val_loss: 0.0439 - val_accuracy: 0.9867\n",
            "Epoch 5/10\n",
            "375/375 [==============================] - 9s 24ms/step - loss: 0.0294 - accuracy: 0.9905 - val_loss: 0.0427 - val_accuracy: 0.9877\n",
            "Epoch 6/10\n",
            "375/375 [==============================] - 9s 24ms/step - loss: 0.0254 - accuracy: 0.9923 - val_loss: 0.0410 - val_accuracy: 0.9887\n",
            "Epoch 7/10\n",
            "375/375 [==============================] - 9s 24ms/step - loss: 0.0201 - accuracy: 0.9933 - val_loss: 0.0408 - val_accuracy: 0.9902\n",
            "Epoch 8/10\n",
            "375/375 [==============================] - 9s 24ms/step - loss: 0.0187 - accuracy: 0.9935 - val_loss: 0.0355 - val_accuracy: 0.9896\n",
            "Epoch 9/10\n",
            "375/375 [==============================] - 9s 25ms/step - loss: 0.0166 - accuracy: 0.9950 - val_loss: 0.0433 - val_accuracy: 0.9881\n",
            "Epoch 10/10\n",
            "375/375 [==============================] - 9s 24ms/step - loss: 0.0154 - accuracy: 0.9953 - val_loss: 0.0419 - val_accuracy: 0.9893\n",
            "INFO:tensorflow:Assets written to: epochsave.h5py/assets\n",
            "313/313 [==============================] - 2s 5ms/step - loss: 0.0373 - accuracy: 0.9886\n",
            "Test loss: 0.037290941923856735\n",
            "Test accuracy: 0.9886000156402588\n"
          ],
          "name": "stdout"
        }
      ]
    },
    {
      "cell_type": "code",
      "metadata": {
        "colab": {
          "base_uri": "https://localhost:8080/",
          "height": 312
        },
        "id": "P-opIlRVnF8H",
        "outputId": "18edf94f-ea03-4504-c862-a7fbdf7bf586"
      },
      "source": [
        "plt.plot(loss)\n",
        "plt.plot(val_loss)\n",
        "plt.title('Training and Testing loss')\n",
        "plt.ylabel('loss')\n",
        "plt.xlabel('epoch')\n",
        "plt.legend(['train', 'test'], loc='lower right')\n",
        "plt.show"
      ],
      "execution_count": null,
      "outputs": [
        {
          "output_type": "execute_result",
          "data": {
            "text/plain": [
              "<function matplotlib.pyplot.show>"
            ]
          },
          "metadata": {
            "tags": []
          },
          "execution_count": 9
        },
        {
          "output_type": "display_data",
          "data": {
            "image/png": "[encoded data removed]",
            "text/plain": [
              "<Figure size 432x288 with 1 Axes>"
            ]
          },
          "metadata": {
            "tags": [],
            "needs_background": "light"
          }
        }
      ]
    }
  ]
}